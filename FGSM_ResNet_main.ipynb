{
 "cells": [
  {
   "cell_type": "code",
   "execution_count": null,
   "metadata": {},
   "outputs": [],
   "source": [
    "# Built-in imports\n",
    "import os\n",
    "import shutil\n",
    "import warnings\n",
    "\n",
    "# Third-part imports\n",
    "import torch\n",
    "from torchvision.io import read_image\n",
    "from torchvision.models import resnet50, ResNet50_Weights\n",
    "\n",
    "# My imports\n",
    "from functions import *"
   ]
  },
  {
   "cell_type": "code",
   "execution_count": null,
   "metadata": {},
   "outputs": [],
   "source": [
    "warnings.filterwarnings('ignore')\n",
    "\n",
    "device: str = 'cpu'\n",
    "if torch.cuda.is_available():\n",
    "    device = 'cuda'\n",
    "elif torch.backends.mps.is_available():\n",
    "    device = 'mps'\n",
    "\n",
    "x_img_resize: int = 320\n",
    "y_img_resize: int = 320\n",
    "img_resize: tuple = (x_img_resize, y_img_resize)\n",
    "\n",
    "x_figure_size: int = 16\n",
    "y_figure_size: int = 8\n",
    "fig_size: tuple = (x_figure_size, y_figure_size)\n",
    "\n",
    "parametri_grafici = {\n",
    "    'figure.figsize': fig_size, # Dimensione della figura\n",
    "    'figure.autolayout': True,  # Regolazione automatica delle dimensioni della figura\n",
    "    'figure.titlesize': 20,     # Dimensione del titolo associato ad ogni figura (plt.suptitle())\n",
    "    'axes.titlesize': 20,       # Dimensione del titolo associato ad ogni grafico all'interno di una figura (plt.title())\n",
    "    'axes.labelsize': 20,       # Dimensione delle etichette sia sull'asse x sia sull'asse y\n",
    "    'xtick.labelsize': 15,      # Dimensione dei riferimenti sull'asse x\n",
    "    'ytick.labelsize': 15,      # Dimensione dei riferimenti sull'asse y\n",
    "}\n",
    "plt.rcParams.update(parametri_grafici)\n",
    "\n",
    "flag_new_images: bool = False          # True solo quando vengono aggiunte nuove immagini al path.\n",
    "flag_preds_display: bool = False        # True per visualizzare le predizioni su ogni immagine del dataset.\n",
    "flag_gradcam_display: bool = False      # True per visualizzare le immagini con le RoI usate dal modello per fare la predizione.\n",
    "flag_performance_display: bool = False  # True solo quando si vogliono visualizzare le performance della rete al variare di epsilon."
   ]
  },
  {
   "cell_type": "code",
   "execution_count": null,
   "metadata": {},
   "outputs": [],
   "source": [
    "path_cartella_immagini: str = '../ResNet_FGSM/images'\n",
    "estensione: str = '.jpg'\n",
    "\n",
    "if flag_new_images:\n",
    "\n",
    "    # Per comodità rinomino tutte le immagini su cui fare inferenza con nomi del tipo 1.jpg, 2.jpg, 3.jpg, ...\n",
    "    files: list = [os.path.join(path_cartella_immagini, elem) for elem in os.listdir(path_cartella_immagini) if not elem.startswith('.')]\n",
    "    num: int = 1\n",
    "    for file in files:\n",
    "        os.rename(file, str(num) + estensione)\n",
    "        num = num + 1\n",
    "\n",
    "    # Poichè a seguito della ridenominazione le immagini vengono spostate al di fuori dalla cartella images, le riporto dentro.\n",
    "    temp_path: str = '../ResNet_FGSM'\n",
    "    files: list = [os.path.join(temp_path, elem) for elem in os.listdir(temp_path) if not elem.startswith('.') and elem.endswith(estensione)]\n",
    "    for file in files:\n",
    "        shutil.move(os.path.join(temp_path, file), path_cartella_immagini)\n",
    "\n",
    "# Creo il dataset con tutte le immagini su cui eseguire l'attacco FGSM.\n",
    "files: list = [os.path.join(path_cartella_immagini, elem) for elem in os.listdir(path_cartella_immagini) if not elem.startswith('.')]\n",
    "dataset = list()\n",
    "for file in files:\n",
    "    dataset.append(file)\n",
    "\n",
    "# Opzionale: ordino le immagini del dataset in base al nome.\n",
    "dataset = sorted(dataset, key = lambda x: int(x[x.rfind('/') + 1 : x.rfind('.')]))\n",
    "\n",
    "# Definizione del modello di classificazione ResNet trainato sul dataset ImageNet.\n",
    "model = resnet50(weights = ResNet50_Weights.IMAGENET1K_V2).to(device) # Lista delle classi: https://deeplearning.cms.waikato.ac.nz/user-guide/class-maps/IMAGENET/\n",
    "model.eval()\n",
    "\n",
    "# Eseguo l'attacco FGSM sulle immagini del dataset sfruttando un valore di epsilon scelto arbitrariamente.\n",
    "triplas: list = []\n",
    "for image in dataset:\n",
    "    original_image: torch.Tensor = read_image(image)\n",
    "    original_image: torch.Tensor = preprocess(original_image, img_resize).to(device)\n",
    "    epsilon: float = 0.8\n",
    "    perturbed_image, noise = fgsm_attack(model, original_image, epsilon, device)\n",
    "    original_image: torch.Tensor = postprocess(original_image)\n",
    "    perturbed_image: torch.Tensor = postprocess(perturbed_image)\n",
    "    tripla: tuple = (original_image, noise, perturbed_image)\n",
    "    triplas.append(tripla)"
   ]
  },
  {
   "cell_type": "code",
   "execution_count": null,
   "metadata": {},
   "outputs": [],
   "source": [
    "if flag_preds_display:\n",
    "    for tripla in triplas:\n",
    "        preds_display(model, tripla, epsilon, show_noise = True)"
   ]
  },
  {
   "cell_type": "code",
   "execution_count": null,
   "metadata": {},
   "outputs": [],
   "source": [
    "if flag_gradcam_display:\n",
    "    for tripla in triplas:\n",
    "        gradcam_display(model, tripla, img_resize)"
   ]
  },
  {
   "cell_type": "code",
   "execution_count": null,
   "metadata": {},
   "outputs": [],
   "source": [
    "if flag_performance_display:\n",
    "    epsilons: list = [0, 0.1, 0.2, 0.3, 0.4, 0.5, 0.6, 0.7, 0.8, 0.9, 1]\n",
    "    performance_display(dataset, model, img_resize, device, epsilons, show_wrong_preds = True)"
   ]
  }
 ],
 "metadata": {
  "kernelspec": {
   "display_name": "tirocinio",
   "language": "python",
   "name": "python3"
  },
  "language_info": {
   "codemirror_mode": {
    "name": "ipython",
    "version": 3
   },
   "file_extension": ".py",
   "mimetype": "text/x-python",
   "name": "python",
   "nbconvert_exporter": "python",
   "pygments_lexer": "ipython3",
   "version": "3.11.6"
  }
 },
 "nbformat": 4,
 "nbformat_minor": 2
}
